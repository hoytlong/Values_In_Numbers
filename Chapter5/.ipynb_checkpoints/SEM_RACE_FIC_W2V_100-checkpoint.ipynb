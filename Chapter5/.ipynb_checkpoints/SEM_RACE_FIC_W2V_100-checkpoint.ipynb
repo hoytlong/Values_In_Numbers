{
 "cells": [
  {
   "cell_type": "code",
   "execution_count": 1,
   "metadata": {
    "collapsed": false
   },
   "outputs": [
    {
     "name": "stderr",
     "output_type": "stream",
     "text": [
      "C:\\Users\\Hoyt\\Anaconda3\\lib\\site-packages\\gensim-2.0.0-py3.6-win-amd64.egg\\gensim\\utils.py:860: UserWarning: detected Windows; aliasing chunkize to chunkize_serial\n",
      "  warnings.warn(\"detected Windows; aliasing chunkize to chunkize_serial\")\n"
     ]
    }
   ],
   "source": [
    "#### imports\n",
    "\n",
    "import pandas as pd\n",
    "from pandas import Series, DataFrame\n",
    "import numpy as np\n",
    "from scipy import stats\n",
    "import os\n",
    "import codecs\n",
    "import sys\n",
    "import re\n",
    "from shutil import copyfile\n",
    "from __future__ import division\n",
    "#import MeCab  #CHECK \"MECABRC\" FILE TO SEE WHICH DICTIONARY YOU ARE USING\n",
    "#mecab = MeCab.Tagger(\"\")  #using unidic  #'-Ochasen')\n",
    "import collections\n",
    "import operator\n",
    "import nltk\n",
    "import math\n",
    "\n",
    "import gensim#For word2vec, etc\n",
    "import matplotlib.pyplot as plt #For graphics\n",
    "import seaborn #Makes the graphics look nicer\n",
    "import sklearn.metrics.pairwise #For cosine similarity\n",
    "import sklearn.manifold #For T-SNE\n",
    "import sklearn.decomposition #For PCA"
   ]
  },
  {
   "cell_type": "code",
   "execution_count": 2,
   "metadata": {
    "collapsed": false
   },
   "outputs": [],
   "source": [
    "### some pre-processing functions\n",
    "\n",
    "def bracket_cleaner(raw):\n",
    "    raw = re.sub(r'［[^］]+］', '', raw)   #replace annotations in brackets ([#...])\n",
    "    raw = re.sub(r'『', r'「', raw)   #replace all 『 with 「\n",
    "    raw = re.sub(r'』', r'」', raw)   #replace all 』 with 」\n",
    "    raw = re.sub(r'\\s+', ' ', raw)                         #get rid of double spaces\n",
    "    return raw\n",
    "\n",
    "puncs = ['、','。','「','」','…','！','――','？','ゝ','『','』','（','）','／','＼','々','ーーー','］','・','ゞ','［','-','─','<',\n",
    "         '＃','△','※','＊']\n",
    "\n",
    "def cleaner(text):\n",
    "    for punc in puncs:\n",
    "        text = re.sub(punc, '', text)\n",
    "    text = re.sub(r'\\s+', ' ', text)                         #get rid of double spaces\n",
    "    return text\n",
    "\n",
    "def char_cleaner(text, char_names):\n",
    "    #text = re.sub(r'\\s[ア-ンーァィゥェォ]+\\s', '　', text)   #replace all katakana string with a space\n",
    "    \n",
    "    tokens = re.split(r'\\s', text)\n",
    "    \n",
    "    for name in char_names:   #eliminate all char names from file\n",
    "        if name in tokens:\n",
    "            tokens = list(filter(lambda a: a != name, tokens))\n",
    "    text = ' '.join(tokens)           #get rid of double spaces\n",
    "    return text\n",
    "\n",
    "def periods(text):\n",
    "    #count periods\n",
    "    periods = re.findall(r'。', text)\n",
    "    \n",
    "    #tokenize text\n",
    "    text = re.split(r'\\s', text)\n",
    "    \n",
    "    return len(periods)/len(text)\n",
    "\n",
    "def get_char_names():\n",
    "    char_names = []\n",
    "    with open(\"./CharNames.txt\", 'r', encoding = \"utf-8\") as f:\n",
    "        for word in f.readlines():\n",
    "            char_names.append(word.replace(\"\\n\", \"\"))\n",
    "    return char_names"
   ]
  },
  {
   "cell_type": "code",
   "execution_count": 3,
   "metadata": {
    "collapsed": false
   },
   "outputs": [
    {
     "data": {
      "text/plain": [
       "(1835, 40)"
      ]
     },
     "execution_count": 3,
     "metadata": {},
     "output_type": "execute_result"
    }
   ],
   "source": [
    "#### build list of tokenized sentences to feed to word2vec\n",
    "\n",
    "#LOAD in metadata for the fiction corpus\n",
    "\n",
    "#columns = ['WORK_ID', 'WORK_TITLE', 'FILTER']\n",
    "\n",
    "#Read in the .csv data (make sure to change directories!!!)\n",
    "df = pd.read_excel(r\"C:\\Users\\Hoyt\\Dropbox\\SemanticsRace\\FictionCorpus.xlsx\", sheetname='FictionCorpus')\n",
    "\n",
    "#df = pd.read_csv(r\"C:\\Users\\Hoyt\\Dropbox\\SemanticsRace\\FictionCorpus.csv\", usecols=columns)   #, \n",
    "#                 #converters={'WORK_ID': str, 'WORK_TITLE': str}, engine='python') #for non-utf8 files\n",
    "\n",
    "#df = df.dropna(subset=['WORK_ID'])   #drop any empty rows at end of csv\n",
    "#df['periods'] = Series('',index=df.index)\n",
    "\n",
    "#drop some works based on filter column\n",
    "df = df[df['FILTER'] != 'y']\n",
    "\n",
    "df.shape"
   ]
  },
  {
   "cell_type": "code",
   "execution_count": 4,
   "metadata": {
    "collapsed": false
   },
   "outputs": [],
   "source": [
    "#if you're working on unidic tokenized corpus\n",
    "CORPUS_PATH = r\"C:\\Users\\Hoyt\\Dropbox\\SemanticsRace\\UnidicCorpusLemma\\\\\"\n",
    "\n",
    "words_by_sentence = []\n",
    "\n",
    "char_names = get_char_names()\n",
    "\n",
    "#tokenize the sentences in each text and then store as list of tokens\n",
    "for k in df.index:\n",
    "    #get the tokenized text\n",
    "    source_text = CORPUS_PATH + str(df.WORK_ID[k]) + \".txt\"\n",
    "    raw_text = open(source_text, encoding=\"utf-8\")       #grab text\n",
    "    raw = raw_text.read()\n",
    "\n",
    "    raw = bracket_cleaner(raw)\n",
    "    raw = char_cleaner(raw, char_names)  #strip character names\n",
    "    \n",
    "    #get ratio of periods in text\n",
    "    period_count = periods(raw)\n",
    "    \n",
    "    #exclude texts that don't use standard period for punctuation (ratio of .005 or less)\n",
    "    if period_count > .005:\n",
    "        temp_sents = re.findall(r'([^！？。(――)(——)\\(\\)]+(」を.*)*(」と[^。]*)*(」、と[^。]*)*(？」と[^。]*)*[！？。」(……)]*)', raw)\n",
    "    \n",
    "        #now tokenize each sentence and add to global list\n",
    "        for sent in temp_sents:\n",
    "            sent_to_tokenize = sent[0]  #grab only first item, since findall produces tuples\n",
    "            if sent_to_tokenize != ' ':\n",
    "                sent_words = re.split(r'\\s', sent_to_tokenize)\n",
    "                if sent_words[0] == '':\n",
    "                    words_by_sentence.append(sent_words[1:])  #get rid of leading space\n",
    "                else:\n",
    "                    words_by_sentence.append(sent_words)"
   ]
  },
  {
   "cell_type": "code",
   "execution_count": 1,
   "metadata": {
    "collapsed": false
   },
   "outputs": [
    {
     "ename": "NameError",
     "evalue": "name 'words_by_sentence' is not defined",
     "output_type": "error",
     "traceback": [
      "\u001b[0;31m---------------------------------------------------------------------------\u001b[0m",
      "\u001b[0;31mNameError\u001b[0m                                 Traceback (most recent call last)",
      "\u001b[0;32m<ipython-input-1-55f07bc911ee>\u001b[0m in \u001b[0;36m<module>\u001b[0;34m()\u001b[0m\n\u001b[0;32m----> 1\u001b[0;31m \u001b[0mlen\u001b[0m\u001b[1;33m(\u001b[0m\u001b[0mwords_by_sentence\u001b[0m\u001b[1;33m)\u001b[0m\u001b[1;33m\u001b[0m\u001b[0m\n\u001b[0m",
      "\u001b[0;31mNameError\u001b[0m: name 'words_by_sentence' is not defined"
     ]
    }
   ],
   "source": [
    "len(words_by_sentence)"
   ]
  },
  {
   "cell_type": "markdown",
   "metadata": {},
   "source": [
    "Word2Vec Features\n",
    "\n",
    "    Size: Number of dimensions for word embedding model\n",
    "    Window: Number of context words to observe in each direction\n",
    "    min_count: Minimum frequency for words included in model\n",
    "    sg (Skip-Gram): '0' indicates CBOW model; '1' indicates Skip-Gram\n",
    "    Alpha: Learning rate (initial); prevents model from over-correcting, enables finer tuning\n",
    "    Iterations: Number of passes through dataset\n",
    "    Batch Size: Number of words to sample from data during each pass"
   ]
  },
  {
   "cell_type": "code",
   "execution_count": 6,
   "metadata": {
    "collapsed": false
   },
   "outputs": [],
   "source": [
    "### now build the word2vec model using list of tokenized sentences (takes about 12 minutes)\n",
    "\n",
    "# Train word2vec using Skip-Gram (slower than CBOW, but better performance)\n",
    "model = gensim.models.word2vec.Word2Vec(words_by_sentence, size=100, window=10, \\\n",
    "                               min_count=5, sg=1, alpha=0.025, iter=5, batch_words=10000)\n",
    "\n",
    "# Save current model for later use\n",
    "model.wv.save_word2vec_format(r'C:\\Users\\Hoyt\\Dropbox\\SemanticsRace\\word2vec.SG100_10_NoChar.txt')"
   ]
  },
  {
   "cell_type": "code",
   "execution_count": 2,
   "metadata": {
    "collapsed": false,
    "scrolled": false
   },
   "outputs": [],
   "source": [
    "# load the model\n",
    "#model = gensim.models.KeyedVectors.load_word2vec_format(r'./word2vec.SG100_10_Alpha.txt')\n",
    "#model = gensim.models.KeyedVectors.load_word2vec_format(r'./word2vec.SG100_10_NoChar.txt')\n",
    "model = gensim.models.KeyedVectors.load_word2vec_format(r'./results_fic_bootstrap/word2vec.txt')"
   ]
  },
  {
   "cell_type": "code",
   "execution_count": 26,
   "metadata": {
    "collapsed": false
   },
   "outputs": [
    {
     "data": {
      "text/plain": [
       "[('ギンノスケ', 0.811742901802063),\n",
       " ('レンタロウ', 0.7852112054824829),\n",
       " ('ブンペイ', 0.6618415117263794),\n",
       " ('タカヤナギ', 0.614383339881897),\n",
       " ('渠', 0.6141502261161804),\n",
       " ('タカユキ', 0.6051355004310608),\n",
       " ('シンゴ', 0.6016206741333008),\n",
       " ('チエコ', 0.5980721116065979),\n",
       " ('ショウゴ', 0.5948665738105774),\n",
       " ('憶出', 0.58967524766922),\n",
       " ('ヨシオ', 0.580901563167572),\n",
       " ('イイヤマ', 0.5655720829963684),\n",
       " ('サンキチ', 0.5638929009437561),\n",
       " ('別離', 0.5572566390037537),\n",
       " ('教員', 0.5572038292884827),\n",
       " ('セイゾウ', 0.5554723143577576),\n",
       " ('ゼンキチ', 0.5541646480560303),\n",
       " ('古壁', 0.5480523109436035),\n",
       " ('ヨシサト', 0.5472684502601624),\n",
       " ('シホ', 0.5466476678848267)]"
      ]
     },
     "execution_count": 26,
     "metadata": {},
     "output_type": "execute_result"
    }
   ],
   "source": [
    "model.most_similar(positive=['ウシマツ'], topn=20)"
   ]
  },
  {
   "cell_type": "code",
   "execution_count": 7,
   "metadata": {
    "collapsed": false
   },
   "outputs": [
    {
     "data": {
      "text/plain": [
       "[('コーンビーフ-corned', 0.8814064264297485),\n",
       " ('beef', 0.8749763369560242),\n",
       " ('エッグ-egg', 0.8658535480499268),\n",
       " ('セージ-sage', 0.856883704662323),\n",
       " ('セリー-serie', 0.85506272315979),\n",
       " ('パインナプル', 0.8516138195991516),\n",
       " ('マカロニ-macaroni', 0.8466078639030457),\n",
       " ('シュー-chou', 0.8418270349502563),\n",
       " ('味の素', 0.8416444063186646),\n",
       " ('酢漬け', 0.8406987190246582)]"
      ]
     },
     "execution_count": 7,
     "metadata": {},
     "output_type": "execute_result"
    }
   ],
   "source": [
    "model.most_similar('ビーフ-beef') "
   ]
  },
  {
   "cell_type": "code",
   "execution_count": 73,
   "metadata": {
    "collapsed": false
   },
   "outputs": [
    {
     "data": {
      "text/plain": [
       "[('モモヤマ', 0.12639263272285461),\n",
       " ('皇', 0.11821611225605011),\n",
       " ('詠ずる', 0.1123894676566124),\n",
       " ('ミクニ', 0.10994419455528259),\n",
       " ('約する', 0.0924035906791687),\n",
       " ('ゾウ', 0.08620558679103851),\n",
       " ('明星', 0.08269856870174408),\n",
       " ('翻す', 0.07576365023851395),\n",
       " ('茶入れ', 0.07488447427749634),\n",
       " ('報ずる', 0.07114435732364655)]"
      ]
     },
     "execution_count": 73,
     "metadata": {},
     "output_type": "execute_result"
    }
   ],
   "source": [
    "model.most_similar(positive=['日本'], negative=['下等','頭数','病人','ごろつき','坑夫','醜い'], topn=10)\n",
    "#using China, Korea, or US gets mostly the same results; so \"state\" - \"lower classes\" puts us in same space"
   ]
  },
  {
   "cell_type": "code",
   "execution_count": 7,
   "metadata": {
    "collapsed": false
   },
   "outputs": [
    {
     "data": {
      "text/plain": [
       "[('ドイツ-Duits', 0.815209686756134),\n",
       " ('ヨーロッパ-Europa', 0.8104456663131714),\n",
       " ('ロシア-Rossiya', 0.8087064623832703),\n",
       " ('東洋', 0.806805431842804),\n",
       " ('アメリカ-America', 0.8064653277397156),\n",
       " ('外国', 0.8040716648101807),\n",
       " ('オウシュウ-外国', 0.7963716983795166),\n",
       " ('フランス-France', 0.7871662378311157),\n",
       " ('ヨーロツパ', 0.770549476146698),\n",
       " ('国', 0.766959547996521)]"
      ]
     },
     "execution_count": 7,
     "metadata": {},
     "output_type": "execute_result"
    }
   ],
   "source": [
    "model.most_similar('日本人') #alpha"
   ]
  },
  {
   "cell_type": "code",
   "execution_count": 3,
   "metadata": {
    "collapsed": false
   },
   "outputs": [
    {
     "data": {
      "text/plain": [
       "[('西洋人', 0.8220118880271912),\n",
       " ('中国人', 0.7873703241348267),\n",
       " ('東洋人', 0.7738021016120911),\n",
       " ('ヨーロッパ-Europa', 0.7358791828155518),\n",
       " ('ロシア-Rossiya', 0.7350459098815918),\n",
       " ('ドイツ-Duits', 0.7348195314407349),\n",
       " ('人種', 0.7172271013259888),\n",
       " ('アメリカ-America', 0.7155283689498901),\n",
       " ('国籍', 0.7124301791191101),\n",
       " ('民族', 0.7091902494430542)]"
      ]
     },
     "execution_count": 3,
     "metadata": {},
     "output_type": "execute_result"
    }
   ],
   "source": [
    "model.most_similar('日本人') #with colonial lit"
   ]
  },
  {
   "cell_type": "code",
   "execution_count": 7,
   "metadata": {
    "collapsed": false
   },
   "outputs": [
    {
     "data": {
      "text/plain": [
       "[('艶やか', 0.8031078577041626),\n",
       " ('清らか', 0.7884329557418823),\n",
       " ('妖艶', 0.7773064970970154),\n",
       " ('気高い', 0.7723579406738281),\n",
       " ('可愛らしい', 0.7653977870941162),\n",
       " ('臈たける', 0.7541934251785278),\n",
       " ('初々しい', 0.7527321577072144),\n",
       " ('豊麗', 0.7476016283035278),\n",
       " ('あどけない', 0.7475959062576294),\n",
       " ('愛らしい', 0.7472991943359375)]"
      ]
     },
     "execution_count": 7,
     "metadata": {},
     "output_type": "execute_result"
    }
   ],
   "source": [
    "model.most_similar('美しい') #with colonial lit"
   ]
  },
  {
   "cell_type": "code",
   "execution_count": 5,
   "metadata": {
    "collapsed": false
   },
   "outputs": [
    {
     "data": {
      "text/plain": [
       "[('善良', 0.5278595685958862),\n",
       " ('義務', 0.4249784052371979),\n",
       " ('東洋人', 0.42257267236709595),\n",
       " ('乗客', 0.4171053171157837),\n",
       " ('種族', 0.4074307680130005),\n",
       " ('特権', 0.39788609743118286),\n",
       " ('良心', 0.3905617296695709),\n",
       " ('親切', 0.3868815004825592),\n",
       " ('男性', 0.3838314414024353),\n",
       " ('虚偽', 0.38122034072875977)]"
      ]
     },
     "execution_count": 5,
     "metadata": {},
     "output_type": "execute_result"
    }
   ],
   "source": [
    "model.most_similar(positive=['日本人'], negative=['日本'], topn=10) #try subtracting \"native\" (very striking difference)"
   ]
  },
  {
   "cell_type": "code",
   "execution_count": 119,
   "metadata": {
    "collapsed": false
   },
   "outputs": [
    {
     "data": {
      "text/plain": [
       "[('人種', 0.5878571271896362),\n",
       " ('封建', 0.5831364393234253),\n",
       " ('開化', 0.5814365148544312),\n",
       " ('社会', 0.5656658411026001),\n",
       " ('東洋人', 0.558188796043396),\n",
       " ('民族', 0.5550850033760071),\n",
       " ('蒙昧', 0.5544064044952393),\n",
       " ('道徳', 0.5514828562736511),\n",
       " ('モラル-moral', 0.547203004360199),\n",
       " ('世紀', 0.5457727909088135),\n",
       " ('平民', 0.5438117980957031),\n",
       " ('学者', 0.5402175188064575),\n",
       " ('生息', 0.5401173830032349),\n",
       " ('人類', 0.5400779247283936),\n",
       " ('美的', 0.5356030464172363),\n",
       " ('理想', 0.5311862230300903),\n",
       " ('売淫', 0.5230396389961243),\n",
       " ('生地', 0.5220948457717896),\n",
       " ('ブルジョア-bourgeois', 0.5214208364486694),\n",
       " ('美徳', 0.521108865737915)]"
      ]
     },
     "execution_count": 119,
     "metadata": {},
     "output_type": "execute_result"
    }
   ],
   "source": [
    "model.most_similar(positive=['日本人','文化','文明'], negative=['日本','分野'], topn=20)"
   ]
  },
  {
   "cell_type": "code",
   "execution_count": 4,
   "metadata": {
    "collapsed": false
   },
   "outputs": [
    {
     "data": {
      "text/plain": [
       "[('モラル-moral', 0.7201515436172485),\n",
       " ('模倣', 0.7035349011421204),\n",
       " ('品性', 0.6957867741584778),\n",
       " ('美徳', 0.6954248547554016),\n",
       " ('道徳', 0.6865748167037964),\n",
       " ('売淫', 0.6863893270492554),\n",
       " ('理想', 0.6847348809242249),\n",
       " ('美的', 0.6814630031585693),\n",
       " ('詩的', 0.6810042858123779),\n",
       " ('剛健', 0.6724821329116821),\n",
       " ('愛好', 0.6717896461486816),\n",
       " ('教養', 0.6694411039352417),\n",
       " ('現代', 0.6688758134841919),\n",
       " ('高尚', 0.6688120365142822),\n",
       " ('哲人', 0.6687372922897339),\n",
       " ('慣習', 0.6666232347488403),\n",
       " ('ニヒリズム-nihilism', 0.6664098501205444),\n",
       " ('質実', 0.6653292775154114),\n",
       " ('低級', 0.6650800704956055),\n",
       " ('価値', 0.6638809442520142)]"
      ]
     },
     "execution_count": 4,
     "metadata": {},
     "output_type": "execute_result"
    }
   ],
   "source": [
    "model.most_similar(positive=['日本人','文化','文明','趣味'], negative=['日本','分野'], topn=20)"
   ]
  },
  {
   "cell_type": "code",
   "execution_count": 5,
   "metadata": {
    "collapsed": false
   },
   "outputs": [
    {
     "data": {
      "text/plain": [
       "[('御子', 0.8025850057601929),\n",
       " ('皇后', 0.7593863010406494),\n",
       " ('皇子', 0.7194600105285645),\n",
       " ('皇太子', 0.7075158357620239),\n",
       " ('上皇', 0.7075092792510986),\n",
       " ('崩御', 0.7000883221626282),\n",
       " ('即位', 0.6969008445739746),\n",
       " ('ウマヤド', 0.6866745352745056),\n",
       " ('親王', 0.6861685514450073),\n",
       " ('ショウム', 0.6769891977310181)]"
      ]
     },
     "execution_count": 5,
     "metadata": {},
     "output_type": "execute_result"
    }
   ],
   "source": [
    "model.most_similar(positive=['女','天皇'], negative=['男'])"
   ]
  },
  {
   "cell_type": "code",
   "execution_count": 5,
   "metadata": {
    "collapsed": false
   },
   "outputs": [
    {
     "data": {
      "text/plain": [
       "[('水兵', 0.47873806953430176),\n",
       " ('マニラ-Manila', 0.46587347984313965),\n",
       " ('中国人', 0.45913344621658325),\n",
       " ('漁夫', 0.45544809103012085),\n",
       " ('捕虜', 0.4504659175872803),\n",
       " ('クーリー', 0.4494684934616089),\n",
       " ('船員', 0.44859784841537476),\n",
       " ('砲手', 0.43965017795562744),\n",
       " ('兵士', 0.43318864703178406),\n",
       " ('東洋人', 0.43210095167160034),\n",
       " ('火夫', 0.4291720390319824),\n",
       " ('大尉', 0.4263070821762085),\n",
       " ('分隊', 0.42502474784851074),\n",
       " ('軍艦', 0.4230150878429413),\n",
       " ('将校', 0.4183814227581024),\n",
       " ('下士', 0.4164927899837494),\n",
       " ('黒人', 0.41598331928253174),\n",
       " ('敵艦', 0.4123151898384094),\n",
       " ('埠頭', 0.411180317401886),\n",
       " ('水夫', 0.4100400507450104)]"
      ]
     },
     "execution_count": 5,
     "metadata": {},
     "output_type": "execute_result"
    }
   ],
   "source": [
    "model.most_similar(positive=['日本人'], negative=['趣味'], topn=20)"
   ]
  },
  {
   "cell_type": "code",
   "execution_count": 28,
   "metadata": {
    "collapsed": false
   },
   "outputs": [
    {
     "data": {
      "text/plain": [
       "[('優美', 0.7877537608146667),\n",
       " ('清楚', 0.7700127363204956),\n",
       " ('上品', 0.7315379977226257),\n",
       " ('派手やか', 0.7222326397895813),\n",
       " ('物静か', 0.7218536138534546),\n",
       " ('伸びやか', 0.7215919494628906),\n",
       " ('端麗', 0.7200454473495483),\n",
       " ('挙措', 0.7143955230712891),\n",
       " ('風姿', 0.7100013494491577),\n",
       " ('繊細', 0.7082215547561646)]"
      ]
     },
     "execution_count": 28,
     "metadata": {},
     "output_type": "execute_result"
    }
   ],
   "source": [
    "model.most_similar(positive=['優雅'], negative=[]) #忠実 勇気　上品　貞操　信頼　礼儀　寛大　気前 信念 義心 純潔 優雅"
   ]
  },
  {
   "cell_type": "code",
   "execution_count": 33,
   "metadata": {
    "collapsed": false
   },
   "outputs": [
    {
     "data": {
      "text/plain": [
       "'中国人'"
      ]
     },
     "execution_count": 33,
     "metadata": {},
     "output_type": "execute_result"
    }
   ],
   "source": [
    "model.doesnt_match(['日本人','中国人','優雅','忠実','上品','貞操','信頼','礼儀','寛大'])"
   ]
  },
  {
   "cell_type": "code",
   "execution_count": 6,
   "metadata": {
    "collapsed": false
   },
   "outputs": [
    {
     "data": {
      "text/plain": [
       "[('躄', 0.7173744440078735),\n",
       " ('ルンペン-Lumpen', 0.678962230682373),\n",
       " ('乞丐', 0.6766347289085388),\n",
       " ('薄汚い', 0.6686185598373413),\n",
       " ('子連れ', 0.6636179685592651),\n",
       " ('陸でなし', 0.6494549512863159),\n",
       " ('浮浪', 0.6441731452941895),\n",
       " ('百姓', 0.6427169442176819),\n",
       " ('花売り', 0.6418694257736206),\n",
       " ('汚い', 0.6365187168121338)]"
      ]
     },
     "execution_count": 6,
     "metadata": {},
     "output_type": "execute_result"
    }
   ],
   "source": [
    "model.most_similar(positive=['乞食'], negative=[])"
   ]
  },
  {
   "cell_type": "code",
   "execution_count": 138,
   "metadata": {
    "collapsed": false
   },
   "outputs": [
    {
     "data": {
      "text/plain": [
       "[('金持ち', 0.7700893878936768),\n",
       " ('官員', 0.7463195323944092),\n",
       " ('蒔岡', 0.7093212008476257),\n",
       " ('成金', 0.7072396278381348),\n",
       " ('金満', 0.7060117125511169),\n",
       " ('家柄', 0.7016130685806274),\n",
       " ('実業', 0.693996787071228),\n",
       " ('旧弊', 0.6826541423797607),\n",
       " ('旧藩', 0.6802213788032532),\n",
       " ('平民', 0.6772228479385376)]"
      ]
     },
     "execution_count": 138,
     "metadata": {},
     "output_type": "execute_result"
    }
   ],
   "source": [
    "model.most_similar(positive=['華族'], negative=[])"
   ]
  },
  {
   "cell_type": "code",
   "execution_count": 20,
   "metadata": {
    "collapsed": false
   },
   "outputs": [
    {
     "data": {
      "text/plain": [
       "[('〔', 0.8202084302902222),\n",
       " ('〕', 0.8173530697822571),\n",
       " ('九字', 0.7626646757125854),\n",
       " ('ブルジュア', 0.7251254320144653),\n",
       " ('缺', 0.6893174648284912),\n",
       " ('削除', 0.6866201162338257),\n",
       " ('コム-外国', 0.6754885911941528),\n",
       " ('ＡＢＣ', 0.6754155158996582),\n",
       " ('プロレタリアート-Proletariat', 0.6746618747711182),\n",
       " ('セント-cent', 0.6701943874359131),\n",
       " ('字', 0.6692160367965698),\n",
       " ('原文', 0.6617985367774963),\n",
       " ('払い込み', 0.6588940620422363),\n",
       " ('略字', 0.6555885076522827),\n",
       " ('マルク-Mark', 0.6544146537780762),\n",
       " ('逆数', 0.6537506580352783),\n",
       " ('パアセント', 0.6492605805397034),\n",
       " ('コンマ-comma', 0.6460180282592773),\n",
       " ('単位', 0.6425172090530396),\n",
       " ('アルハベツト', 0.6409473419189453)]"
      ]
     },
     "execution_count": 20,
     "metadata": {},
     "output_type": "execute_result"
    }
   ],
   "source": [
    "model.most_similar('伏せ字', topn=20)"
   ]
  },
  {
   "cell_type": "code",
   "execution_count": 7,
   "metadata": {
    "collapsed": false
   },
   "outputs": [
    {
     "data": {
      "text/plain": [
       "[('西洋人', 0.8208966255187988),\n",
       " ('東洋人', 0.7873709201812744),\n",
       " ('中国人', 0.7625054121017456),\n",
       " ('ユダヤ-Judaea', 0.7465492486953735),\n",
       " ('人種', 0.7394192814826965),\n",
       " ('日本', 0.7361326217651367),\n",
       " ('フランス-France', 0.7259402275085449),\n",
       " ('外国人', 0.7256032824516296),\n",
       " ('アメリカ-America', 0.7206014394760132),\n",
       " ('ロシア-Rossiya', 0.7141760587692261),\n",
       " ('ドイツ-Duits', 0.7129426002502441),\n",
       " ('ヨーロッパ-Europa', 0.7039815187454224),\n",
       " ('国籍', 0.6957125663757324),\n",
       " ('朝鮮人', 0.6956906318664551),\n",
       " ('黒人', 0.6896748542785645),\n",
       " ('ヘルン-Herm', 0.6882966756820679),\n",
       " ('イギリス-Inglez', 0.6863665580749512),\n",
       " ('先進', 0.686095118522644),\n",
       " ('最強', 0.6836230158805847),\n",
       " ('我々', 0.6829931735992432)]"
      ]
     },
     "execution_count": 7,
     "metadata": {},
     "output_type": "execute_result"
    }
   ],
   "source": [
    "#lemmatized\n",
    "model.most_similar('日本人', topn=20)"
   ]
  },
  {
   "cell_type": "code",
   "execution_count": 9,
   "metadata": {
    "collapsed": false
   },
   "outputs": [
    {
     "data": {
      "text/plain": [
       "[('日本人', 0.7625054717063904),\n",
       " ('西洋人', 0.7598572373390198),\n",
       " ('東洋人', 0.7214674353599548),\n",
       " ('外国人', 0.7103502750396729),\n",
       " ('クーリー', 0.6948310732841492),\n",
       " ('黒人', 0.6895819902420044),\n",
       " ('支那', 0.6801598072052002),\n",
       " ('朝鮮人', 0.6789684295654297),\n",
       " ('土人', 0.6721635460853577),\n",
       " ('インド-India', 0.6626163721084595)]"
      ]
     },
     "execution_count": 9,
     "metadata": {},
     "output_type": "execute_result"
    }
   ],
   "source": [
    "#lemmatized alpha\n",
    "model.most_similar('中国人')"
   ]
  },
  {
   "cell_type": "code",
   "execution_count": 7,
   "metadata": {
    "collapsed": false
   },
   "outputs": [
    {
     "data": {
      "text/plain": [
       "[('西洋人', 0.7877126932144165),\n",
       " ('日本人', 0.7873703241348267),\n",
       " ('東洋人', 0.7328659892082214),\n",
       " ('朝鮮人', 0.7277256846427917),\n",
       " ('外国人', 0.720365047454834),\n",
       " ('チェコ-Czech', 0.7099849581718445),\n",
       " ('ハジン', 0.6973833441734314),\n",
       " ('インド-India', 0.6920132040977478),\n",
       " ('支那', 0.6904211640357971),\n",
       " ('ロシア-Rossiya', 0.685808002948761)]"
      ]
     },
     "execution_count": 7,
     "metadata": {},
     "output_type": "execute_result"
    }
   ],
   "source": [
    "#lemmatized w colonial lit\n",
    "model.most_similar('中国人')"
   ]
  },
  {
   "cell_type": "code",
   "execution_count": 4,
   "metadata": {
    "collapsed": false
   },
   "outputs": [
    {
     "data": {
      "text/plain": [
       "[('中国人', 0.727725625038147),\n",
       " ('日本人', 0.6973182559013367),\n",
       " ('クーリー', 0.6473953723907471),\n",
       " ('這人', 0.6302325129508972),\n",
       " ('農民', 0.6257988214492798),\n",
       " ('土方', 0.6243476867675781),\n",
       " ('下級', 0.6241568922996521),\n",
       " ('兵卒', 0.6202027797698975),\n",
       " ('不逞', 0.6177137494087219),\n",
       " ('ロシア-Rossiya', 0.6175993084907532)]"
      ]
     },
     "execution_count": 4,
     "metadata": {},
     "output_type": "execute_result"
    }
   ],
   "source": [
    "model.most_similar('朝鮮人')"
   ]
  },
  {
   "cell_type": "code",
   "execution_count": 7,
   "metadata": {
    "collapsed": false
   },
   "outputs": [
    {
     "data": {
      "text/plain": [
       "[('朝鮮人', 0.7486487627029419),\n",
       " ('労働', 0.7410011887550354),\n",
       " ('百姓', 0.7307842969894409),\n",
       " ('沖仲仕', 0.7298792600631714),\n",
       " ('土工', 0.7135926485061646),\n",
       " ('工人', 0.7130126953125),\n",
       " ('農夫', 0.711929440498352),\n",
       " ('中農', 0.7044981718063354),\n",
       " ('貧農', 0.6981436014175415),\n",
       " ('下級', 0.6907559037208557)]"
      ]
     },
     "execution_count": 7,
     "metadata": {},
     "output_type": "execute_result"
    }
   ],
   "source": [
    "model.most_similar(positive=['土方','クーリー','農民'], negative=[])"
   ]
  },
  {
   "cell_type": "code",
   "execution_count": 5,
   "metadata": {
    "collapsed": false
   },
   "outputs": [
    {
     "data": {
      "text/plain": [
       "[('西洋人', 0.7877126932144165),\n",
       " ('日本人', 0.7873703241348267),\n",
       " ('東洋人', 0.7328659892082214),\n",
       " ('朝鮮人', 0.7277256846427917),\n",
       " ('外国人', 0.720365047454834),\n",
       " ('チェコ-Czech', 0.7099849581718445),\n",
       " ('ハジン', 0.6973833441734314),\n",
       " ('インド-India', 0.6920132040977478),\n",
       " ('支那', 0.6904211640357971),\n",
       " ('ロシア-Rossiya', 0.685808002948761)]"
      ]
     },
     "execution_count": 5,
     "metadata": {},
     "output_type": "execute_result"
    }
   ],
   "source": [
    "model.most_similar('中国人')"
   ]
  },
  {
   "cell_type": "code",
   "execution_count": 6,
   "metadata": {
    "collapsed": false
   },
   "outputs": [
    {
     "data": {
      "text/plain": [
       "[('人猿', 0.7662190198898315),\n",
       " ('酋長', 0.6898199319839478),\n",
       " ('遊牧', 0.6800622940063477),\n",
       " ('中国人', 0.6715679168701172),\n",
       " ('狼', 0.6714810729026794),\n",
       " ('東洋人', 0.6709449291229248),\n",
       " ('野牛', 0.6658167839050293),\n",
       " ('猛獣', 0.6633650064468384),\n",
       " ('バール-bar', 0.6541118621826172),\n",
       " ('黒人', 0.6520717144012451)]"
      ]
     },
     "execution_count": 6,
     "metadata": {},
     "output_type": "execute_result"
    }
   ],
   "source": [
    "#lemmatized w colonial lit\n",
    "model.most_similar('土人')"
   ]
  },
  {
   "cell_type": "code",
   "execution_count": 11,
   "metadata": {
    "collapsed": false
   },
   "outputs": [
    {
     "data": {
      "text/plain": [
       "[('酋長', 0.7725577354431152),\n",
       " ('アイヌ-Ainu', 0.7369205951690674),\n",
       " ('人猿', 0.698427677154541),\n",
       " ('黒人', 0.6899242401123047),\n",
       " ('中国人', 0.6721636652946472),\n",
       " ('獣人', 0.6694055795669556),\n",
       " ('コロンブス-Columbus', 0.6642110347747803),\n",
       " ('猛獣', 0.6531597375869751),\n",
       " ('パピ', 0.6524810791015625),\n",
       " ('ジョン-John', 0.6503133773803711)]"
      ]
     },
     "execution_count": 11,
     "metadata": {},
     "output_type": "execute_result"
    }
   ],
   "source": [
    "#lemmatized alpha\n",
    "model.most_similar('土人')"
   ]
  },
  {
   "cell_type": "code",
   "execution_count": 111,
   "metadata": {
    "collapsed": false
   },
   "outputs": [
    {
     "data": {
      "text/plain": [
       "[('恐竜', 0.6738424301147461),\n",
       " ('怪物', 0.6618384122848511),\n",
       " ('東洋人', 0.6607807874679565),\n",
       " ('ボル', 0.6601114869117737),\n",
       " ('日本人', 0.6593377590179443),\n",
       " ('船員', 0.6575685739517212),\n",
       " ('じまん', 0.6561211943626404),\n",
       " ('中国人', 0.6530484557151794),\n",
       " ('ジャガイモ', 0.651809573173523),\n",
       " ('生けどっ', 0.6514780521392822)]"
      ]
     },
     "execution_count": 111,
     "metadata": {},
     "output_type": "execute_result"
    }
   ],
   "source": [
    "#non-lemmatized\n",
    "model.most_similar('黒人')"
   ]
  },
  {
   "cell_type": "code",
   "execution_count": 12,
   "metadata": {
    "collapsed": false
   },
   "outputs": [
    {
     "data": {
      "text/plain": [
       "[('西洋人', 0.7496658563613892),\n",
       " ('東洋人', 0.6923611164093018),\n",
       " ('土人', 0.6899240612983704),\n",
       " ('日本人', 0.6896747946739197),\n",
       " ('中国人', 0.6895818710327148),\n",
       " ('露助', 0.6677428483963013),\n",
       " ('インド-India', 0.6580893993377686),\n",
       " ('酋長', 0.6368824243545532),\n",
       " ('アイヌ-Ainu', 0.6347077488899231),\n",
       " ('恐竜', 0.6321216821670532)]"
      ]
     },
     "execution_count": 12,
     "metadata": {},
     "output_type": "execute_result"
    }
   ],
   "source": [
    "#lemmatized\n",
    "model.most_similar('黒人')"
   ]
  },
  {
   "cell_type": "code",
   "execution_count": 3,
   "metadata": {
    "collapsed": false
   },
   "outputs": [
    {
     "data": {
      "text/plain": [
       "[('日本人', 0.8220118284225464),\n",
       " ('中国人', 0.7877126336097717),\n",
       " ('外国人', 0.7602583169937134),\n",
       " ('東洋人', 0.7452378273010254),\n",
       " ('黒人', 0.7255457639694214),\n",
       " ('イギリス-Inglez', 0.694662868976593),\n",
       " ('インド-India', 0.6907364130020142),\n",
       " ('ドイツ-Duits', 0.6764169335365295),\n",
       " ('フランス-France', 0.6709485054016113),\n",
       " ('アメリカ-America', 0.6688749194145203)]"
      ]
     },
     "execution_count": 3,
     "metadata": {},
     "output_type": "execute_result"
    }
   ],
   "source": [
    "model.most_similar('西洋人')"
   ]
  },
  {
   "cell_type": "code",
   "execution_count": 13,
   "metadata": {
    "collapsed": false
   },
   "outputs": [
    {
     "data": {
      "text/plain": [
       "[('別働', 0.5021671652793884),\n",
       " ('彰義', 0.5012008547782898),\n",
       " ('分署', 0.49846500158309937),\n",
       " ('漁業', 0.48820799589157104),\n",
       " ('後備', 0.48345640301704407),\n",
       " ('保安', 0.44891953468322754),\n",
       " ('ミノリ', 0.4480040371417999),\n",
       " ('キリノ', 0.43955278396606445),\n",
       " ('トダ', 0.4369807243347168),\n",
       " ('銃隊', 0.4333285689353943),\n",
       " ('カイセキ', 0.4291529655456543),\n",
       " ('カゲヤマ', 0.42867571115493774),\n",
       " ('錚々', 0.42856717109680176),\n",
       " ('選出', 0.4272117018699646),\n",
       " ('イワサキ', 0.4267992079257965),\n",
       " ('諸隊', 0.4265086352825165),\n",
       " ('コエヅカ', 0.4254646897315979),\n",
       " ('村会', 0.4252115488052368),\n",
       " ('総裁', 0.42264795303344727),\n",
       " ('撃退', 0.4189637005329132)]"
      ]
     },
     "execution_count": 13,
     "metadata": {},
     "output_type": "execute_result"
    }
   ],
   "source": [
    "model.most_similar(positive=['青年','少年','紳士','闘士'], negative=['少女','女の子','婦人','女性'], topn=20)"
   ]
  },
  {
   "cell_type": "code",
   "execution_count": 34,
   "metadata": {
    "collapsed": false
   },
   "outputs": [
    {
     "data": {
      "text/plain": [
       "'部落民'"
      ]
     },
     "execution_count": 34,
     "metadata": {},
     "output_type": "execute_result"
    }
   ],
   "source": [
    "model.doesnt_match(['日本人','朝鮮人','中国人','土人','黒人','外国人','西洋人','東洋人','部落民'])"
   ]
  },
  {
   "cell_type": "code",
   "execution_count": 11,
   "metadata": {
    "collapsed": false
   },
   "outputs": [
    {
     "data": {
      "text/plain": [
       "[('人猿', 0.49882441759109497),\n",
       " ('西部', 0.44930779933929443),\n",
       " ('探検', 0.44820865988731384),\n",
       " ('兇蕃', 0.44080424308776855),\n",
       " ('匈奴', 0.4369191527366638),\n",
       " ('発砲', 0.42740094661712646),\n",
       " ('肉弾', 0.42644014954566956),\n",
       " ('反軍', 0.422515332698822),\n",
       " ('露軍', 0.4222811758518219),\n",
       " ('南方', 0.41746243834495544)]"
      ]
     },
     "execution_count": 11,
     "metadata": {},
     "output_type": "execute_result"
    }
   ],
   "source": [
    "#lemmatized\n",
    "model.most_similar(positive=['土人'],negative=['汚い'])"
   ]
  },
  {
   "cell_type": "code",
   "execution_count": 8,
   "metadata": {
    "collapsed": false
   },
   "outputs": [
    {
     "data": {
      "text/plain": [
       "[('下人', 0.6410824060440063),\n",
       " ('下郎', 0.6325137615203857),\n",
       " ('乞食', 0.6125985383987427),\n",
       " ('浪人', 0.6031421422958374),\n",
       " ('世迷い言', 0.593437910079956),\n",
       " ('売僧', 0.5908006429672241),\n",
       " ('町人', 0.5875698328018188),\n",
       " ('分際', 0.5865182876586914),\n",
       " ('鼠賊', 0.5858022570610046),\n",
       " ('主持ち', 0.5828255414962769)]"
      ]
     },
     "execution_count": 8,
     "metadata": {},
     "output_type": "execute_result"
    }
   ],
   "source": [
    "#lemmatized\n",
    "model.most_similar('部落民')"
   ]
  },
  {
   "cell_type": "code",
   "execution_count": 16,
   "metadata": {
    "collapsed": false
   },
   "outputs": [
    {
     "data": {
      "text/plain": [
       "[('輿入れ', 0.24356341361999512),\n",
       " ('祝言', 0.21317972242832184),\n",
       " ('叶える', 0.19158373773097992),\n",
       " ('契り', 0.18737703561782837),\n",
       " ('ノブタカ', 0.18193866312503815),\n",
       " ('吉日', 0.18068501353263855),\n",
       " ('時日', 0.17708826065063477),\n",
       " ('円満', 0.17375019192695618),\n",
       " ('朔日', 0.17244160175323486),\n",
       " ('観ずる', 0.17132484912872314),\n",
       " ('成就', 0.16698741912841797),\n",
       " ('遊ばす', 0.16520151495933533),\n",
       " ('婚儀', 0.1629457175731659),\n",
       " ('物事', 0.1618672013282776),\n",
       " ('欠く', 0.16078126430511475),\n",
       " ('マサエ', 0.16029539704322815),\n",
       " ('願わしい', 0.16020435094833374),\n",
       " ('聞き届ける', 0.15860731899738312),\n",
       " ('寸時', 0.1549348533153534),\n",
       " ('年内', 0.15392781794071198),\n",
       " ('伸べる', 0.15362530946731567),\n",
       " ('ジョウキ', 0.15334156155586243),\n",
       " ('真如', 0.15332749485969543),\n",
       " ('元服', 0.1521478295326233),\n",
       " ('周忌', 0.15194781124591827),\n",
       " ('テコナ', 0.15009155869483948),\n",
       " ('ハンベエ', 0.14990678429603577),\n",
       " ('心境', 0.14916753768920898),\n",
       " ('慈しむ', 0.14848142862319946),\n",
       " ('ノリシゲ', 0.1484672725200653)]"
      ]
     },
     "execution_count": 16,
     "metadata": {},
     "output_type": "execute_result"
    }
   ],
   "source": [
    "model.most_similar(positive=['日本人'], negative=['朝鮮人','中国人'], topn=30)"
   ]
  },
  {
   "cell_type": "code",
   "execution_count": 17,
   "metadata": {
    "collapsed": false
   },
   "outputs": [
    {
     "data": {
      "text/plain": [
       "[('業績', 0.44512367248535156),\n",
       " ('引っ括める', 0.43851590156555176),\n",
       " ('完結', 0.43647652864456177),\n",
       " ('待ち望む', 0.4310029447078705),\n",
       " ('要素', 0.42351868748664856),\n",
       " ('体験', 0.4219523072242737),\n",
       " ('成人', 0.42012685537338257),\n",
       " ('清算', 0.4129907488822937),\n",
       " ('転機', 0.40683746337890625),\n",
       " ('最高', 0.4052932560443878),\n",
       " ('平民', 0.4035794734954834),\n",
       " ('リアリズム-realism', 0.40164250135421753),\n",
       " ('エピソード-episode', 0.4014580249786377),\n",
       " ('人生', 0.40123581886291504),\n",
       " ('友情', 0.40052783489227295),\n",
       " ('憧れ', 0.3988863527774811),\n",
       " ('教訓', 0.39801281690597534),\n",
       " ('血族', 0.396725594997406),\n",
       " ('分野', 0.39609888195991516),\n",
       " ('念願', 0.395827054977417),\n",
       " ('成長', 0.3953607678413391),\n",
       " ('信頼', 0.39492911100387573),\n",
       " ('包括', 0.3935011625289917),\n",
       " ('不惑', 0.39188116788864136),\n",
       " ('裏付け', 0.39088279008865356),\n",
       " ('明確', 0.38984376192092896),\n",
       " ('難関', 0.38902854919433594),\n",
       " ('ロマンチスム-romanticism', 0.3883410096168518),\n",
       " ('享受', 0.3872864842414856),\n",
       " ('骨子', 0.3867214322090149)]"
      ]
     },
     "execution_count": 17,
     "metadata": {},
     "output_type": "execute_result"
    }
   ],
   "source": [
    "#lemmatized\n",
    "model.most_similar(positive=['日本人'], negative=['中国人'], topn=30)"
   ]
  },
  {
   "cell_type": "code",
   "execution_count": 18,
   "metadata": {
    "collapsed": false
   },
   "outputs": [
    {
     "data": {
      "text/plain": [
       "[('クーリー', 0.6354023814201355),\n",
       " ('在郷', 0.5736949443817139),\n",
       " ('駅夫', 0.5687721967697144),\n",
       " ('ごろつき', 0.5594577789306641),\n",
       " ('二人組', 0.5527874231338501),\n",
       " ('地回り', 0.5516407489776611),\n",
       " ('フレー-hurray', 0.546655535697937),\n",
       " ('将官', 0.5453627109527588),\n",
       " ('ちんどん', 0.5451687574386597),\n",
       " ('工女', 0.5448389053344727),\n",
       " ('兵隊', 0.5435397624969482),\n",
       " ('与太者', 0.5377917289733887),\n",
       " ('花売り', 0.536523163318634),\n",
       " ('伊達者', 0.536250114440918),\n",
       " ('赤髭', 0.5358864068984985),\n",
       " ('活弁', 0.5286413431167603),\n",
       " ('bicycle', 0.5275567173957825),\n",
       " ('田舎女', 0.527286946773529),\n",
       " ('角袖', 0.5268040299415588),\n",
       " ('アパッシュ-apache', 0.5261751413345337),\n",
       " ('ルンペン-Lumpen', 0.5241319537162781),\n",
       " ('憲兵', 0.5233321189880371),\n",
       " ('菜っ葉', 0.5226747989654541),\n",
       " ('浮浪', 0.5203354358673096),\n",
       " ('兵士', 0.5194652080535889),\n",
       " ('ハジン', 0.5150704383850098),\n",
       " ('宿引き', 0.5136489868164062),\n",
       " ('綱引き', 0.5132737159729004),\n",
       " ('どたんばたん', 0.5126057863235474),\n",
       " ('青服', 0.5121660232543945)]"
      ]
     },
     "execution_count": 18,
     "metadata": {},
     "output_type": "execute_result"
    }
   ],
   "source": [
    "model.most_similar(positive=['朝鮮人','中国人'], negative=['日本人'], topn=30)"
   ]
  },
  {
   "cell_type": "code",
   "execution_count": 19,
   "metadata": {
    "collapsed": false
   },
   "outputs": [
    {
     "data": {
      "text/plain": [
       "[('作品', 0.4343957304954529),\n",
       " ('生活', 0.4299767017364502),\n",
       " ('明確', 0.4241863489151001),\n",
       " ('プロレタリア-Proletarier', 0.4226204454898834),\n",
       " ('一員', 0.41623908281326294),\n",
       " ('段階', 0.40726691484451294),\n",
       " ('闘争', 0.3995412290096283),\n",
       " ('前編', 0.3991088569164276),\n",
       " ('削除', 0.39546123147010803),\n",
       " ('スギモリ', 0.3946843147277832)]"
      ]
     },
     "execution_count": 19,
     "metadata": {},
     "output_type": "execute_result"
    }
   ],
   "source": [
    "model.most_similar(positive=['日本人'], negative=['西洋人'], topn=10)"
   ]
  },
  {
   "cell_type": "code",
   "execution_count": 20,
   "metadata": {
    "collapsed": false
   },
   "outputs": [
    {
     "data": {
      "text/plain": [
       "[('船客', 0.7324593663215637),\n",
       " ('乗組', 0.6850271224975586),\n",
       " ('水夫', 0.6757627725601196),\n",
       " ('船長', 0.6616088151931763),\n",
       " ('メリー-merry', 0.655734658241272),\n",
       " ('乗客', 0.6519562005996704),\n",
       " ('隊員', 0.644606351852417),\n",
       " ('ボート-boat', 0.6139892339706421),\n",
       " ('漁夫', 0.6048555970191956),\n",
       " ('我々', 0.6037722826004028)]"
      ]
     },
     "execution_count": 20,
     "metadata": {},
     "output_type": "execute_result"
    }
   ],
   "source": [
    "model.most_similar(positive=['日本人','船員'], negative=['中国人'], topn=10)"
   ]
  },
  {
   "cell_type": "code",
   "execution_count": 21,
   "metadata": {
    "collapsed": false
   },
   "outputs": [
    {
     "data": {
      "text/plain": [
       "[('土人', 0.7369204759597778),\n",
       " ('蝗', 0.6418060660362244),\n",
       " ('酋長', 0.6406764984130859),\n",
       " ('ジャングル-jungle', 0.6371789574623108),\n",
       " ('遊牧', 0.6351137757301331),\n",
       " ('黒人', 0.6347078680992126),\n",
       " ('パルチザン-partisan', 0.6309376955032349),\n",
       " ('家禽', 0.6186497211456299),\n",
       " ('原人', 0.6166452765464783),\n",
       " ('地蜂', 0.616398274898529)]"
      ]
     },
     "execution_count": 21,
     "metadata": {},
     "output_type": "execute_result"
    }
   ],
   "source": [
    "model.most_similar('アイヌ-Ainu')"
   ]
  },
  {
   "cell_type": "code",
   "execution_count": 5,
   "metadata": {
    "collapsed": false
   },
   "outputs": [
    {
     "data": {
      "text/plain": [
       "[('這人', 0.847272515296936),\n",
       " ('魚商', 0.8333127498626709),\n",
       " ('面疔', 0.82646244764328),\n",
       " ('チゲ', 0.8229323625564575),\n",
       " ('弟嫁', 0.815654993057251),\n",
       " ('綿繰り', 0.8152385950088501),\n",
       " ('人遊び', 0.8148503303527832),\n",
       " ('つづ', 0.8137204647064209),\n",
       " ('追い下ろす', 0.8113215565681458),\n",
       " ('宿割り', 0.8097422122955322)]"
      ]
     },
     "execution_count": 5,
     "metadata": {},
     "output_type": "execute_result"
    }
   ],
   "source": [
    "model.most_similar('ヨボ')"
   ]
  },
  {
   "cell_type": "code",
   "execution_count": 23,
   "metadata": {
    "collapsed": false
   },
   "outputs": [
    {
     "data": {
      "text/plain": [
       "[('マドロス-matroos', 0.485704630613327),\n",
       " ('酔っ払い', 0.4413232207298279),\n",
       " ('黒人', 0.43463990092277527),\n",
       " ('船頭', 0.4154427945613861),\n",
       " ('中国人', 0.4152255654335022),\n",
       " ('ウルフ-wolf', 0.41364800930023193),\n",
       " ('フランソア', 0.41331857442855835),\n",
       " ('馬方', 0.4116766154766083),\n",
       " ('酔漢', 0.4116652309894562),\n",
       " ('ラル', 0.4035004675388336)]"
      ]
     },
     "execution_count": 23,
     "metadata": {},
     "output_type": "execute_result"
    }
   ],
   "source": [
    "model.most_similar(positive=['西洋人'],negative=['文化'])"
   ]
  },
  {
   "cell_type": "code",
   "execution_count": 24,
   "metadata": {
    "collapsed": false
   },
   "outputs": [
    {
     "data": {
      "text/plain": [
       "[('労り', 0.6764034628868103),\n",
       " ('気持ち', 0.6741674542427063),\n",
       " ('胸', 0.673061192035675),\n",
       " ('自分', 0.6367320418357849),\n",
       " ('自尊', 0.6352245807647705),\n",
       " ('愛情', 0.6351779699325562),\n",
       " ('胸底', 0.6327768564224243),\n",
       " ('惑い', 0.6305983662605286),\n",
       " ('恋心', 0.6302775144577026),\n",
       " ('自身', 0.621395468711853),\n",
       " ('感情', 0.6090580821037292),\n",
       " ('然し', 0.6061482429504395),\n",
       " ('心情', 0.6046353578567505),\n",
       " ('愛慕', 0.6037780046463013),\n",
       " ('思う', 0.6028668284416199),\n",
       " ('友情', 0.6028044819831848),\n",
       " ('愛憐', 0.6017277240753174),\n",
       " ('為', 0.5989958643913269),\n",
       " ('言葉', 0.5984561443328857),\n",
       " ('今', 0.5972729325294495)]"
      ]
     },
     "execution_count": 24,
     "metadata": {},
     "output_type": "execute_result"
    }
   ],
   "source": [
    "model.most_similar('心', topn=20)"
   ]
  },
  {
   "cell_type": "markdown",
   "metadata": {},
   "source": [
    "# Code for Exploring Word Embeddings (from Evans Course)\n",
    "## First: Visualizing Relations between Word Vectors"
   ]
  },
  {
   "cell_type": "code",
   "execution_count": 9,
   "metadata": {
    "collapsed": false
   },
   "outputs": [
    {
     "data": {
      "image/png": "[encoded data removed]",
      "text/plain": [
       "<matplotlib.figure.Figure at 0x23076534f98>"
      ]
     },
     "metadata": {},
     "output_type": "display_data"
    }
   ],
   "source": [
    "# Project a set of target word vectors down into smaller dimensions; results are highly idiosyncratic (not reliable)\n",
    "\n",
    "targetWords = ['日本人','朝鮮人','中国人','外国人','東洋人','西洋人','黒人','土人','部落民',\n",
    "              '優雅','忠実','上品','貞操','信頼','礼儀','寛大','青年','少年','紳士','闘士',\n",
    "              '少女','女の子','婦人','女性']\n",
    "\n",
    "#extract vectors and create a smaller matrix\n",
    "wordsSubMatrix = []\n",
    "for word in targetWords:\n",
    "    wordsSubMatrix.append(model[word])\n",
    "wordsSubMatrix = np.array(wordsSubMatrix)\n",
    "\n",
    "#use PCA to reduce dimensions and TSNE to project them down\n",
    "pcaWords = sklearn.decomposition.PCA(n_components = 50).fit(wordsSubMatrix)\n",
    "reducedPCA_data = pcaWords.transform(wordsSubMatrix)\n",
    "reducedPCA_data = np.asfarray(reducedPCA_data)\n",
    "#T-SNE is theoretically better, but you should experiment\n",
    "tsneWords = sklearn.manifold.TSNE(n_components = 2).fit_transform(reducedPCA_data)\n",
    "\n",
    "from matplotlib import font_manager\n",
    "fp = font_manager.FontProperties(fname=r'./ipam.ttf', size=14)\n",
    "\n",
    "#now plot the points\n",
    "numWords = len(targetWords)\n",
    "fig = plt.figure(figsize = (10,6))\n",
    "ax = fig.add_subplot(111)\n",
    "ax.set_frame_on(False)\n",
    "plt.scatter(tsneWords[:, 0], tsneWords[:, 1], alpha = 0)  #Making the points invisible\n",
    "plt.xlim(tsneWords.min(), tsneWords.max())\n",
    "plt.ylim(tsneWords.min(), tsneWords.max())\n",
    "for i, word in enumerate(targetWords):\n",
    "    ax.annotate(word, (tsneWords[:, 0][i],tsneWords[:, 1][i]), size =  300 * (numWords - i) / numWords,\n",
    "               fontproperties=fp)\n",
    "plt.xticks(())\n",
    "plt.yticks(())\n",
    "plt.show()"
   ]
  },
  {
   "cell_type": "markdown",
   "metadata": {
    "collapsed": false
   },
   "source": [
    "# Second: Projection into Arbitrary Semantic Dimension"
   ]
  },
  {
   "cell_type": "code",
   "execution_count": 39,
   "metadata": {
    "collapsed": false
   },
   "outputs": [
    {
     "data": {
      "text/plain": [
       "array([[-0.07759   ,  0.472718  ,  0.34700099, ..., -0.046175  ,\n",
       "         0.25474599, -0.284731  ],\n",
       "       [-0.093218  ,  0.23085999,  0.315577  , ..., -0.037627  ,\n",
       "         0.207588  , -0.212768  ],\n",
       "       [-0.126835  ,  0.42678401, -0.025307  , ..., -0.498321  ,\n",
       "         0.25192699, -0.43740001],\n",
       "       ..., \n",
       "       [ 0.51492703,  0.182493  , -0.03672   , ...,  0.067458  ,\n",
       "         0.26193699, -0.183792  ],\n",
       "       [ 0.60928297,  0.38413501,  0.33508199, ..., -0.03012   ,\n",
       "         0.16803101,  0.15572201],\n",
       "       [-0.025562  ,  0.071758  ,  0.182365  , ..., -0.17643   ,\n",
       "         0.250267  , -0.46142599]], dtype=float32)"
      ]
     },
     "execution_count": 39,
     "metadata": {},
     "output_type": "execute_result"
    }
   ],
   "source": [
    "#words to create dimensions\n",
    "\n",
    "TargetWords = ['真実','真理','良心','本音','忠実','虚偽','偽り','虚構','虚言','大嘘','嘘','嘘っぱち']\n",
    "\n",
    "#words we will be mapping\n",
    "TargetWords += ['日本人','朝鮮人','中国人','外国人','東洋人','西洋人','黒人','土人','部落民']\n",
    "\n",
    "wordsSubMatrix = []\n",
    "for word in TargetWords:\n",
    "    wordsSubMatrix.append(model[word])\n",
    "wordsSubMatrix = np.array(wordsSubMatrix)\n",
    "wordsSubMatrix"
   ]
  },
  {
   "cell_type": "code",
   "execution_count": 40,
   "metadata": {
    "collapsed": false
   },
   "outputs": [
    {
     "data": {
      "image/png": "[encoded data removed]",
      "text/plain": [
       "<matplotlib.figure.Figure at 0x2a0c0df54a8>"
      ]
     },
     "metadata": {},
     "output_type": "display_data"
    }
   ],
   "source": [
    "pcaWords = sklearn.decomposition.PCA(n_components = 50).fit(wordsSubMatrix)\n",
    "reducedPCA_data = pcaWords.transform(wordsSubMatrix)\n",
    "reducedPCA_data = np.asfarray(reducedPCA_data)\n",
    "#T-SNE is theoretically better, but you should experiment\n",
    "tsneWords = sklearn.manifold.TSNE(n_components = 2).fit_transform(reducedPCA_data)\n",
    "tsneWords[:,1].shape\n",
    "fig = plt.figure(figsize = (10,6))\n",
    "ax = fig.add_subplot(111)\n",
    "ax.set_frame_on(False)\n",
    "plt.scatter(tsneWords[:, 0], tsneWords[:, 1], alpha = 0) #Making the points invisible\n",
    "plt.xlim(tsneWords.min(), tsneWords.max())\n",
    "plt.ylim(tsneWords.min(), tsneWords.max())\n",
    "for i, word in enumerate(TargetWords):\n",
    "    ax.annotate(word, (tsneWords[:, 0][i],tsneWords[:, 1][i]), size =  300 * (len(TargetWords) - i) / len(TargetWords),\n",
    "               fontproperties=fp)\n",
    "plt.xticks(())\n",
    "plt.yticks(())\n",
    "plt.show()"
   ]
  },
  {
   "cell_type": "code",
   "execution_count": 53,
   "metadata": {
    "collapsed": true
   },
   "outputs": [],
   "source": [
    "def normalize(vector):\n",
    "    normalized_vector = vector / np.linalg.norm(vector)\n",
    "    return normalized_vector\n",
    "\n",
    "def dimension(model, positives, negatives):\n",
    "    diff = sum([normalize(model[x]) for x in positives]) - sum([normalize(model[y]) for y in negatives])\n",
    "    return diff\n",
    "\n",
    "def makeDF(model, word_list):\n",
    "    m = []\n",
    "    t = []\n",
    "    f = []\n",
    "    for word in word_list:\n",
    "        m.append(sklearn.metrics.pairwise.cosine_similarity(model[word].reshape(1,-1), m_gender.reshape(1,-1))[0][0])\n",
    "        t.append(sklearn.metrics.pairwise.cosine_similarity(model[word].reshape(1,-1), truth.reshape(1,-1))[0][0])\n",
    "        f.append(sklearn.metrics.pairwise.cosine_similarity(model[word].reshape(1,-1), f_gender.reshape(1,-1))[0][0])\n",
    "    df = pd.DataFrame({'m_gender': m, 'truth': t, 'f_gender': f}, index = word_list)\n",
    "    return df\n",
    "\n",
    "def Coloring(Series):\n",
    "    x = Series.values\n",
    "    y = x-x.min()\n",
    "    z = y/y.max()\n",
    "    c = list(plt.cm.gist_heat(z))\n",
    "    return c\n",
    "\n",
    "def PlotDimension(ax,df, dim):\n",
    "    ax.set_frame_on(False)\n",
    "    ax.set_title(dim, fontsize = 20)\n",
    "    colors = Coloring(df[dim])\n",
    "    for i, word in enumerate(df.index):\n",
    "        ax.annotate(word, (0, df[dim][i]), color = colors[i], alpha = 0.8, fontsize = 15, fontproperties=fp)\n",
    "    MaxY = df[dim].max()\n",
    "    MinY = df[dim].min()\n",
    "    plt.ylim(MinY,MaxY)\n",
    "    plt.yticks(())\n",
    "    plt.xticks(())"
   ]
  },
  {
   "cell_type": "code",
   "execution_count": 6,
   "metadata": {
    "collapsed": false
   },
   "outputs": [],
   "source": [
    "m_gender = dimension(model,\n",
    "                   ['青年','紳士','闘士','背広','洋服','男爵','スポーツマン-sportsman'], \n",
    "                   ['大男','ボーイ-boy','小男','男工','工人','クーリー','労働'])\n",
    "\n",
    "truth = dimension(model,\n",
    "                   ['真実','良心','本音','忠実'],\n",
    "                   ['虚偽','偽り','虚構','虚言','大嘘','嘘','嘘っぱち'])\n",
    "\n",
    "f_gender = dimension(model,\n",
    "                    ['令嬢','婦人','嬢','貴女'],\n",
    "                    ['女給','踊り子','売り子','女中','娼妓'])\n",
    "\n",
    "races = ['日本人','朝鮮人','中国人','外国人','東洋人','西洋人','黒人','土人','部落民']\n",
    "\n",
    "test_df = makeDF(model, races)\n",
    "#truth_df = makeDF(model, races)"
   ]
  },
  {
   "cell_type": "code",
   "execution_count": 57,
   "metadata": {
    "collapsed": false
   },
   "outputs": [
    {
     "data": {
      "image/png": "[encoded data removed]",
      "text/plain": [
       "<matplotlib.figure.Figure at 0x230793444e0>"
      ]
     },
     "metadata": {},
     "output_type": "display_data"
    }
   ],
   "source": [
    "fig = plt.figure(figsize = (15,12), facecolor='0.7')\n",
    "ax1 = fig.add_subplot(131)\n",
    "PlotDimension(ax1, test_df, 'm_gender')\n",
    "ax2 = fig.add_subplot(132)\n",
    "PlotDimension(ax2, test_df, 'truth')\n",
    "ax3 = fig.add_subplot(133)\n",
    "PlotDimension(ax3, test_df, 'f_gender')\n",
    "plt.show()"
   ]
  },
  {
   "cell_type": "code",
   "execution_count": 9,
   "metadata": {
    "collapsed": false
   },
   "outputs": [
    {
     "data": {
      "text/plain": [
       "[('賢俊', 0.7471520900726318),\n",
       " ('ヤクシマル', 0.7427661418914795),\n",
       " ('ゲンタザエモン', 0.7314155101776123),\n",
       " ('ゲンクロウ', 0.7216035723686218),\n",
       " ('サダトシ', 0.7118817567825317),\n",
       " ('神札', 0.7105333805084229),\n",
       " ('正師', 0.7028584480285645),\n",
       " ('姥が餅', 0.7018983364105225),\n",
       " ('罷り通る', 0.6991691589355469),\n",
       " ('ミタマ', 0.6986216902732849),\n",
       " ('無動', 0.6969908475875854),\n",
       " ('園城', 0.696134090423584),\n",
       " ('ヤマデラ', 0.694282054901123),\n",
       " ('雲林', 0.6931107044219971),\n",
       " ('青巌', 0.691943883895874),\n",
       " ('当館', 0.6916046142578125),\n",
       " ('罷り下る', 0.6903880834579468),\n",
       " ('イマジュク', 0.6882352828979492),\n",
       " ('竜泉', 0.6870045065879822),\n",
       " ('コシミズ', 0.6860567927360535),\n",
       " ('都入り', 0.6851392984390259),\n",
       " ('ヒコウ', 0.6851031184196472),\n",
       " ('スギサカ', 0.6837385296821594),\n",
       " ('動座', 0.6829797625541687),\n",
       " ('関守', 0.6813827753067017),\n",
       " ('伝え', 0.6811171174049377),\n",
       " ('拙僧', 0.680819034576416),\n",
       " ('禅房', 0.6805006861686707),\n",
       " ('院宣', 0.6802167296409607),\n",
       " ('サイダイジ', 0.6802021265029907)]"
      ]
     },
     "execution_count": 9,
     "metadata": {},
     "output_type": "execute_result"
    }
   ],
   "source": [
    "model.most_similar('ゴボウ', topn=30)"
   ]
  },
  {
   "cell_type": "code",
   "execution_count": null,
   "metadata": {
    "collapsed": true
   },
   "outputs": [],
   "source": [
    "#save model for exploration, but delete the data (saves on RAM)\n",
    "#word_vectors = model.wv\n",
    "#del model"
   ]
  },
  {
   "cell_type": "code",
   "execution_count": 66,
   "metadata": {
    "collapsed": false
   },
   "outputs": [
    {
     "data": {
      "text/plain": [
       "[('釈放', 0.368070125579834),\n",
       " ('結末', 0.3639664053916931),\n",
       " ('終結', 0.36178719997406006),\n",
       " ('おじゃん', 0.3605877161026001),\n",
       " ('起訴', 0.3576812744140625),\n",
       " ('銃殺', 0.3481486439704895),\n",
       " ('無罪', 0.34759148955345154),\n",
       " ('判決', 0.34338322281837463),\n",
       " ('二の舞', 0.34255897998809814),\n",
       " ('約する', 0.33692818880081177),\n",
       " ('悟る', 0.33641141653060913),\n",
       " ('終わる', 0.32868480682373047),\n",
       " ('検挙', 0.3255489468574524),\n",
       " ('最悪', 0.32529401779174805),\n",
       " ('決裂', 0.32332709431648254),\n",
       " ('鞭撻', 0.31992828845977783),\n",
       " ('遂に', 0.31617894768714905),\n",
       " ('ストライキ-strike', 0.3154195547103882),\n",
       " ('暴行', 0.31462591886520386),\n",
       " ('逮捕', 0.3143773674964905),\n",
       " ('成功', 0.31381744146347046),\n",
       " ('高唱', 0.31325143575668335),\n",
       " ('遂行', 0.3119591772556305),\n",
       " ('悲劇', 0.3115014135837555),\n",
       " ('破滅', 0.31145626306533813),\n",
       " ('否認', 0.3084177076816559),\n",
       " ('覆す', 0.30738934874534607),\n",
       " ('敗退', 0.3071364164352417),\n",
       " ('捕縛', 0.30482202768325806),\n",
       " ('藹々', 0.3046054244041443),\n",
       " ('追撃', 0.3044235408306122),\n",
       " ('叱る', 0.304080992937088),\n",
       " ('強固', 0.3030776083469391),\n",
       " ('裏切る', 0.3018268346786499),\n",
       " ('喧伝', 0.30158787965774536),\n",
       " ('出動', 0.30144551396369934),\n",
       " ('撃退', 0.3003530204296112),\n",
       " ('勝利', 0.300101637840271),\n",
       " ('独擅', 0.2997702956199646),\n",
       " ('抜き差し', 0.29885631799697876)]"
      ]
     },
     "execution_count": 66,
     "metadata": {},
     "output_type": "execute_result"
    }
   ],
   "source": [
    "x = word_vectors['トウキョウ']\n",
    "y = word_vectors['田舎']\n",
    "\n",
    "x_y = np.divide(x, y)  #ideally, this would get us the words nearly absent from denominator\n",
    "\n",
    "word_vectors.similar_by_vector(x_y, topn = 40)"
   ]
  },
  {
   "cell_type": "code",
   "execution_count": 42,
   "metadata": {
    "collapsed": false
   },
   "outputs": [
    {
     "data": {
      "text/plain": [
       "[('気違い', 0.828654944896698),\n",
       " ('病者', 0.6656154990196228),\n",
       " ('狂気', 0.6601707339286804),\n",
       " ('発狂', 0.645997166633606),\n",
       " ('夢魔', 0.6372921466827393),\n",
       " ('白痴', 0.632316529750824),\n",
       " ('極悪', 0.6246395707130432),\n",
       " ('妖怪', 0.6246262788772583),\n",
       " ('錯覚', 0.6242474913597107),\n",
       " ('病癖', 0.6222152709960938),\n",
       " ('狐憑き', 0.613775372505188),\n",
       " ('残酷', 0.6132873892784119),\n",
       " ('色盲', 0.608721137046814),\n",
       " ('幽霊', 0.6085785031318665),\n",
       " ('ラスコーリニコフ-Raskolnikov', 0.6068699955940247),\n",
       " ('亡者', 0.605471134185791),\n",
       " ('健忘', 0.605259358882904),\n",
       " ('不感', 0.6044855117797852),\n",
       " ('廃人', 0.6036158800125122),\n",
       " ('抑鬱', 0.6025170087814331),\n",
       " ('腑抜け', 0.6008225679397583),\n",
       " ('狂者', 0.5988156795501709),\n",
       " ('地獄', 0.5969749689102173),\n",
       " ('罪人', 0.5964707136154175),\n",
       " ('ナンセンス-nonsense', 0.5954338908195496),\n",
       " ('モノスゴサ', 0.5948567390441895),\n",
       " ('精神', 0.5945632457733154),\n",
       " ('錯乱', 0.5939915776252747),\n",
       " ('焚殺', 0.5938456058502197),\n",
       " ('変質', 0.5917625427246094)]"
      ]
     },
     "execution_count": 42,
     "metadata": {},
     "output_type": "execute_result"
    }
   ],
   "source": [
    "model.most_similar('狂人', topn=30)  #部落民　トウキョウ　クーリー\n",
    "#model.most_similar(positive=['青年','少年','紳士','闘士'], negative=['少女','女の子','婦人','女性'], topn=20)"
   ]
  }
 ],
 "metadata": {
  "anaconda-cloud": {},
  "kernelspec": {
   "display_name": "Python 3",
   "language": "python",
   "name": "python3"
  },
  "language_info": {
   "codemirror_mode": {
    "name": "ipython",
    "version": 3
   },
   "file_extension": ".py",
   "mimetype": "text/x-python",
   "name": "python",
   "nbconvert_exporter": "python",
   "pygments_lexer": "ipython3",
   "version": "3.6.2"
  }
 },
 "nbformat": 4,
 "nbformat_minor": 2
}
